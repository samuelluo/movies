{
 "cells": [
  {
   "cell_type": "code",
   "execution_count": null,
   "metadata": {},
   "outputs": [],
   "source": [
    "# TODO:\n",
    "# https://www.imdb.com/title/tt0120783/fullcredits; get more writers, actors\n",
    "# https://www.imdb.com/title/tt2557478/companycredits; no legendary in pacific rim uprising\n",
    "# Scrape box office mojo (ex: terminator 2); budget, opening_usa, total_usa, total_world\n",
    "\n",
    "# TODO:\n",
    "# Get original title vs. revised title (probably use revised title)\n",
    "# ex: tt1104001, tt0364569, tt0290334, tt0398373\n",
    "# <meta content=\"Blade of Kings (2004)\" property=\"og:title\"/>"
   ]
  },
  {
   "cell_type": "code",
   "execution_count": null,
   "metadata": {},
   "outputs": [],
   "source": [
    "# Imports\n",
    "import bs4\n",
    "import pandas\n",
    "import re\n",
    "import requests"
   ]
  },
  {
   "cell_type": "markdown",
   "metadata": {},
   "source": [
    "### Define"
   ]
  },
  {
   "cell_type": "code",
   "execution_count": null,
   "metadata": {},
   "outputs": [],
   "source": [
    "def add_title(soup, data):\n",
    "    # title\n",
    "    h1 = soup.find('h1').text\n",
    "    h1 = h1.strip().split('\\xa0')\n",
    "    title = h1[0]\n",
    "    data['title'] = title\n",
    "\n",
    "#     # original_title\n",
    "#     if soup.find('div', class_='originalTitle') is not None:\n",
    "#         original_title = soup.find('div', class_='originalTitle').text\n",
    "#         original_title = original_title[:original_title.index('(')]\n",
    "#         original_title = original_title.strip()\n",
    "        \n",
    "    return data"
   ]
  },
  {
   "cell_type": "code",
   "execution_count": null,
   "metadata": {},
   "outputs": [],
   "source": [
    "def add_release_datetime(soup, data):\n",
    "    # release_year\n",
    "    h1 = soup.find('h1').text\n",
    "    h1 = h1.strip().split('\\xa0')\n",
    "    release_year = h1[1].replace('(', '').replace(')', '')\n",
    "    data['release_year'] = release_year\n",
    "    \n",
    "    # release_date\n",
    "    release_date = soup.find('a', attrs={'title': \"See more release dates\"})\n",
    "    release_date = release_date.text\n",
    "    if '(' in release_date:\n",
    "        release_date = release_date[:release_date.index('(')]   # Most release dates contain \"(USA)\" \n",
    "    release_date = release_date.replace('TV Movie', '')   # ex. tt0080789\n",
    "    release_date = release_date.replace('Video', '')   # ex. tt3060952\n",
    "    release_date = release_date.strip()\n",
    "    data['release_date'] = release_date\n",
    "    return data"
   ]
  },
  {
   "cell_type": "code",
   "execution_count": null,
   "metadata": {},
   "outputs": [],
   "source": [
    "def add_genres(soup, data):\n",
    "    genres = soup.find('div', attrs={'itemprop': 'genre'})\n",
    "    genres = genres.find_all('a')\n",
    "    genres = [genre.text.strip() for genre in genres]\n",
    "    data['genres'] = genres\n",
    "    return data"
   ]
  },
  {
   "cell_type": "code",
   "execution_count": null,
   "metadata": {},
   "outputs": [],
   "source": [
    "def add_studios(soup, data):\n",
    "    blocks = soup.find_all('div', class_='txt-block')\n",
    "    blocks = [block for block in blocks if block.find('h4', class_='inline') is not None]\n",
    "    text = [block.text for block in blocks if 'Production' in block.text][0]\n",
    "    text = text.strip()\n",
    "    text = re.sub(' +', ' ', text)         # Replace 1+ whitespace with 1 whitespace\n",
    "    if 'See more' in text: text = text[:text.index('See more')]   # Remove everything after 'See more'\n",
    "    text = text.strip()\n",
    "    studios = text.split('\\n')\n",
    "    studios = [studio for studio in studios if studio != '']   # Remove blanks\n",
    "    studios = studios[1:]   # Remove 'Production Co:'\n",
    "    studios = [studio.strip().strip(',') for studio in studios]   # Remove surrounding whitespace & commas\n",
    "    studios = [studio.replace(';', '') for studio in studios]   # Remove semi-colons\n",
    "    data['studios'] = studios\n",
    "    return data"
   ]
  },
  {
   "cell_type": "code",
   "execution_count": null,
   "metadata": {},
   "outputs": [],
   "source": [
    "def add_directors(soup, data):\n",
    "    spans = soup.find_all('span', attrs={'itemprop': 'director',\n",
    "                                         'itemtype': \"http://schema.org/Person\"})\n",
    "    directors = [span.text.strip() for span in spans]\n",
    "    directors = [director.strip(',') for director in directors]    \n",
    "    data['directors'] = directors\n",
    "    return data"
   ]
  },
  {
   "cell_type": "code",
   "execution_count": null,
   "metadata": {},
   "outputs": [],
   "source": [
    "def add_writers(soup, data):\n",
    "    spans = soup.find_all('span', attrs={'itemprop': 'creator',\n",
    "                                         'itemtype': \"http://schema.org/Person\"})\n",
    "    writers = [span.text.strip() for span in spans]\n",
    "    writers = [writer.strip(',') for writer in writers]\n",
    "    data['writers'] = writers\n",
    "    return data"
   ]
  },
  {
   "cell_type": "code",
   "execution_count": null,
   "metadata": {},
   "outputs": [],
   "source": [
    "def add_actors(soup, data):\n",
    "    cast_list = soup.find('table', class_='cast_list')\n",
    "    cast_list = cast_list.find_all('span', class_='itemprop')\n",
    "    actors = [cast.text for cast in cast_list]\n",
    "    data['actors'] = actors\n",
    "    return data"
   ]
  },
  {
   "cell_type": "code",
   "execution_count": null,
   "metadata": {},
   "outputs": [],
   "source": [
    "def add_duration(soup, data):\n",
    "    duration = soup.find('time', attrs={'itemprop': 'duration'}).text\n",
    "    duration = duration.strip()\n",
    "    data['duration'] = duration\n",
    "    return data"
   ]
  },
  {
   "cell_type": "code",
   "execution_count": null,
   "metadata": {},
   "outputs": [],
   "source": [
    "def add_mpaa_rating(soup, data):\n",
    "    mpaa_rating = soup.find('meta', attrs={'itemprop': 'contentRating'})\n",
    "    if mpaa_rating is None:\n",
    "        return data\n",
    "    else:\n",
    "        mpaa_rating = mpaa_rating.attrs['content']\n",
    "        data['mpaa_rating'] = mpaa_rating\n",
    "        return data"
   ]
  },
  {
   "cell_type": "code",
   "execution_count": null,
   "metadata": {},
   "outputs": [],
   "source": [
    "def add_locations(soup, data):\n",
    "    blocks = soup.find_all('div', class_='txt-block')\n",
    "    blocks = [block for block in blocks if block.find('h4', class_='inline') is not None]\n",
    "    text = [block.text for block in blocks if 'Filming Locations' in block.text]\n",
    "    if len(text) == 0:\n",
    "        return data\n",
    "    else:\n",
    "        text = text[0]\n",
    "        text = text.replace('\\n', '').replace(': ', ':')\n",
    "        text = re.sub(' +', ' ', text)         # Replace 1+ whitespace with 1 whitespace\n",
    "        if 'See more' in text: text = text[:text.index('See more')]   # Remove everything after 'See more'\n",
    "        text = text.strip()\n",
    "        text = text.split(':')\n",
    "        locations = text[1]\n",
    "        data['locations'] = locations\n",
    "        return data"
   ]
  },
  {
   "cell_type": "code",
   "execution_count": null,
   "metadata": {},
   "outputs": [],
   "source": [
    "# def financials(soup, data):\n",
    "#     blocks = soup.find_all('div', class_='txt-block')\n",
    "#     blocks = [block for block in blocks if block.find('h4', class_='inline') is not None]\n",
    "#     box_office = {}\n",
    "#     for block in blocks:\n",
    "#         if '$' in block.text:\n",
    "#             [span.extract() for span in block.find_all('span')]   # Remove span        \n",
    "#             text = block.text\n",
    "#             text = text.replace('\\n', '').replace(',', '').replace(': ', ':')\n",
    "#             text = text.replace('$', '')\n",
    "#             text = text.strip()\n",
    "#             text = text.split(':')\n",
    "#             box_office[text[0]] = int(text[1])\n",
    "\n",
    "#     box_office = pandas.Series(box_office)\n",
    "#     columns = {'Budget' : 'budget',\n",
    "#                'Opening Weekend USA' : 'opening_usa',\n",
    "#                'Gross USA' : 'total_usa',\n",
    "#                'Cumulative Worldwide Gross' : 'total_world'}\n",
    "#     box_office = box_office.rename(index=columns)\n",
    "#     data = data.append(box_office)\n",
    "#     return data"
   ]
  },
  {
   "cell_type": "markdown",
   "metadata": {},
   "source": [
    "### Testing"
   ]
  },
  {
   "cell_type": "code",
   "execution_count": null,
   "metadata": {},
   "outputs": [],
   "source": [
    "imdb_id = 'tt0066999'"
   ]
  },
  {
   "cell_type": "code",
   "execution_count": null,
   "metadata": {},
   "outputs": [],
   "source": [
    "# Set up soup\n",
    "url = 'https://www.imdb.com/title/' + imdb_id\n",
    "r = requests.get(url, timeout=5)\n",
    "soup = bs4.BeautifulSoup(r.text, 'lxml')"
   ]
  },
  {
   "cell_type": "code",
   "execution_count": null,
   "metadata": {},
   "outputs": [],
   "source": [
    "# title (\"original title\")\n",
    "h1 = soup.find('h1').text\n",
    "h1 = h1.strip().split('\\xa0')\n",
    "title = h1[0]\n",
    "soup.find('h1')"
   ]
  },
  {
   "cell_type": "code",
   "execution_count": null,
   "metadata": {},
   "outputs": [],
   "source": [
    "# title (revised title / official title / the title I probably know it by)\n",
    "soup.find('meta', attrs={'property': 'og:title'})['content']"
   ]
  },
  {
   "cell_type": "code",
   "execution_count": null,
   "metadata": {},
   "outputs": [],
   "source": [
    "blocks = soup.find_all('div', class_='txt-block')\n",
    "blocks = [block for block in blocks if block.find('h4', class_='inline') is not None]\n",
    "text = [block.text for block in blocks if 'Production' in block.text][0]\n",
    "text = text.strip()\n",
    "text = re.sub(' +', ' ', text)         # Replace 1+ whitespace with 1 whitespace\n",
    "if 'See more' in text: text = text[:text.index('See more')]   # Remove everything after 'See more'\n",
    "text = text.strip()\n",
    "studios = text.split('\\n')\n",
    "studios = [studio for studio in studios if studio != '']   # Remove blanks\n",
    "studios = studios[1:]   # Remove 'Production Co:'\n",
    "studios = [studio.strip().strip(',') for studio in studios]   # Remove surrounding whitespace & commas\n",
    "studios = [studio.replace(';', '') for studio in studios]   # Remove semi-colons"
   ]
  },
  {
   "cell_type": "code",
   "execution_count": null,
   "metadata": {},
   "outputs": [],
   "source": [
    "studios"
   ]
  },
  {
   "cell_type": "markdown",
   "metadata": {},
   "source": [
    "### Run"
   ]
  },
  {
   "cell_type": "code",
   "execution_count": null,
   "metadata": {},
   "outputs": [],
   "source": [
    "id_list = pandas.read_csv('raw_data/imdb_ids.csv')\n",
    "id_list = id_list['imdb_id'].dropna().values\n",
    "id_list = [imdb_id for imdb_id in id_list if imdb_id != '-']"
   ]
  },
  {
   "cell_type": "code",
   "execution_count": null,
   "metadata": {},
   "outputs": [],
   "source": [
    "# already_done = pandas.read_csv('raw_data/imdb_raw.csv')\n",
    "# already_done = already_done['imdb_id'].dropna().values\n",
    "# already_done = [imdb_id for imdb_id in already_done if imdb_id != '-']\n",
    "# id_list = [imdb_id for imdb_id in id_list if imdb_id not in already_done]"
   ]
  },
  {
   "cell_type": "code",
   "execution_count": null,
   "metadata": {
    "scrolled": true
   },
   "outputs": [],
   "source": [
    "%%time\n",
    "# Iterate IDs\n",
    "all_data = pandas.DataFrame()\n",
    "for imdb_id in id_list:\n",
    "    # Set up soup\n",
    "    url = 'https://www.imdb.com/title/' + imdb_id\n",
    "    r = requests.get(url, timeout=5)\n",
    "    soup = bs4.BeautifulSoup(r.text, 'html.parser')\n",
    "    \n",
    "    # Get data\n",
    "    data = {}\n",
    "    data['imdb_id'] = imdb_id\n",
    "    data = add_title(soup, data)\n",
    "    data = add_release_datetime(soup, data)\n",
    "    data = add_genres(soup, data)\n",
    "    data = add_studios(soup, data)\n",
    "    data = add_directors(soup, data)\n",
    "    data = add_writers(soup, data)\n",
    "    data = add_actors(soup, data)\n",
    "    data = add_duration(soup, data)\n",
    "    data = add_mpaa_rating(soup, data)\n",
    "    data = add_locations(soup, data)\n",
    "    data = pandas.Series(data)\n",
    "    \n",
    "    # Append\n",
    "    print([data['imdb_id'], data['title'], data['release_year']])\n",
    "    all_data = all_data.append(data, ignore_index=True)"
   ]
  },
  {
   "cell_type": "markdown",
   "metadata": {},
   "source": [
    "### Finalize"
   ]
  },
  {
   "cell_type": "code",
   "execution_count": null,
   "metadata": {},
   "outputs": [],
   "source": [
    "all_data = all_data[[\n",
    "    'imdb_id', 'title', 'release_year', 'release_date', 'genres',\n",
    "    'studios', 'directors', 'writers', 'actors',\n",
    "    'duration', 'mpaa_rating', 'locations',\n",
    "    # 'budget', 'opening_usa', 'total_usa', 'total_world',\n",
    "    # 'plot', 'rating_imdb', 'rating_mc', 'rating_rt',\n",
    "    # 'imdb_votes', 'type'\n",
    "]]"
   ]
  },
  {
   "cell_type": "code",
   "execution_count": null,
   "metadata": {},
   "outputs": [],
   "source": [
    "all_data.to_csv('raw_data/imdb_raw.csv', index=False)"
   ]
  },
  {
   "cell_type": "code",
   "execution_count": null,
   "metadata": {},
   "outputs": [],
   "source": [
    "# all_data.to_csv('raw_data/imdb_raw.csv', header=False, index=False, mode='a')"
   ]
  }
 ],
 "metadata": {
  "kernelspec": {
   "display_name": "Python 3",
   "language": "python",
   "name": "python3"
  },
  "language_info": {
   "codemirror_mode": {
    "name": "ipython",
    "version": 3
   },
   "file_extension": ".py",
   "mimetype": "text/x-python",
   "name": "python",
   "nbconvert_exporter": "python",
   "pygments_lexer": "ipython3",
   "version": "3.6.5"
  },
  "toc": {
   "nav_menu": {},
   "number_sections": false,
   "sideBar": true,
   "skip_h1_title": false,
   "title_cell": "Table of Contents",
   "title_sidebar": "Contents",
   "toc_cell": false,
   "toc_position": {},
   "toc_section_display": true,
   "toc_window_display": false
  }
 },
 "nbformat": 4,
 "nbformat_minor": 2
}
