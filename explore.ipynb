{
 "cells": [
  {
   "cell_type": "code",
   "execution_count": 1,
   "metadata": {},
   "outputs": [],
   "source": [
    "# TODO:\n",
    "# How do I convert notebook tables into PNG?\n",
    "# Or: HTML tables to PNG"
   ]
  },
  {
   "cell_type": "code",
   "execution_count": 2,
   "metadata": {},
   "outputs": [],
   "source": [
    "# Imports\n",
    "import matplotlib\n",
    "import os\n",
    "import pandas\n",
    "import imgkit\n",
    "import IPython\n",
    "import bs4"
   ]
  },
  {
   "cell_type": "code",
   "execution_count": 3,
   "metadata": {},
   "outputs": [],
   "source": [
    "# Read in data\n",
    "entities = pandas.read_csv('data/entities.csv')\n",
    "movies   = pandas.read_csv('data/movies.csv')"
   ]
  },
  {
   "cell_type": "markdown",
   "metadata": {},
   "source": [
    "### release_year vs. release_date.year"
   ]
  },
  {
   "cell_type": "code",
   "execution_count": 4,
   "metadata": {},
   "outputs": [],
   "source": [
    "def convert_release_date(x):\n",
    "    try:\n",
    "        return pandas.to_datetime(x)\n",
    "    except:\n",
    "        print(x)\n",
    "        return None\n",
    "movies['release_date_2'] = movies['release_date'].apply(convert_release_date)\n",
    "movies['release_year_2'] = movies['release_date_2'].dt.year    "
   ]
  },
  {
   "cell_type": "code",
   "execution_count": 5,
   "metadata": {},
   "outputs": [
    {
     "data": {
      "text/plain": [
       "(34, 9)"
      ]
     },
     "metadata": {},
     "output_type": "display_data"
    },
    {
     "data": {
      "text/html": [
       "<div>\n",
       "<style scoped>\n",
       "    .dataframe tbody tr th:only-of-type {\n",
       "        vertical-align: middle;\n",
       "    }\n",
       "\n",
       "    .dataframe tbody tr th {\n",
       "        vertical-align: top;\n",
       "    }\n",
       "\n",
       "    .dataframe thead th {\n",
       "        text-align: right;\n",
       "    }\n",
       "</style>\n",
       "<table border=\"1\" class=\"dataframe\">\n",
       "  <thead>\n",
       "    <tr style=\"text-align: right;\">\n",
       "      <th></th>\n",
       "      <th>imdb_id</th>\n",
       "      <th>title</th>\n",
       "      <th>release_year</th>\n",
       "      <th>release_date</th>\n",
       "      <th>duration</th>\n",
       "      <th>mpaa_rating</th>\n",
       "      <th>locations</th>\n",
       "      <th>release_date_2</th>\n",
       "      <th>release_year_2</th>\n",
       "    </tr>\n",
       "  </thead>\n",
       "  <tbody>\n",
       "    <tr>\n",
       "      <th>422</th>\n",
       "      <td>tt1899353</td>\n",
       "      <td>The Raid: Redemption</td>\n",
       "      <td>2011</td>\n",
       "      <td>13 April 2012</td>\n",
       "      <td>1h 41min</td>\n",
       "      <td>R</td>\n",
       "      <td>Indonesia</td>\n",
       "      <td>2012-04-13</td>\n",
       "      <td>2012.0</td>\n",
       "    </tr>\n",
       "    <tr>\n",
       "      <th>430</th>\n",
       "      <td>tt2034800</td>\n",
       "      <td>The Great Wall</td>\n",
       "      <td>2016</td>\n",
       "      <td>17 February 2017</td>\n",
       "      <td>1h 43min</td>\n",
       "      <td>PG-13</td>\n",
       "      <td>Qingdao, China</td>\n",
       "      <td>2017-02-17</td>\n",
       "      <td>2017.0</td>\n",
       "    </tr>\n",
       "    <tr>\n",
       "      <th>462</th>\n",
       "      <td>tt2802144</td>\n",
       "      <td>Kingsman: The Secret Service</td>\n",
       "      <td>2014</td>\n",
       "      <td>13 February 2015</td>\n",
       "      <td>2h 9min</td>\n",
       "      <td>R</td>\n",
       "      <td>Sharpthorne tunnel, Bluebell Railway, West Sus...</td>\n",
       "      <td>2015-02-13</td>\n",
       "      <td>2015.0</td>\n",
       "    </tr>\n",
       "    <tr>\n",
       "      <th>494</th>\n",
       "      <td>tt5996252</td>\n",
       "      <td>Trader</td>\n",
       "      <td>1987</td>\n",
       "      <td>NaN</td>\n",
       "      <td>55min</td>\n",
       "      <td>NaN</td>\n",
       "      <td>NaN</td>\n",
       "      <td>NaT</td>\n",
       "      <td>NaN</td>\n",
       "    </tr>\n",
       "    <tr>\n",
       "      <th>495</th>\n",
       "      <td>tt6540078</td>\n",
       "      <td>The Child in Time</td>\n",
       "      <td>2017</td>\n",
       "      <td>1 April 2018</td>\n",
       "      <td>1h 30min</td>\n",
       "      <td>NaN</td>\n",
       "      <td>England, UK</td>\n",
       "      <td>2018-04-01</td>\n",
       "      <td>2018.0</td>\n",
       "    </tr>\n",
       "  </tbody>\n",
       "</table>\n",
       "</div>"
      ],
      "text/plain": [
       "       imdb_id                         title  release_year      release_date  \\\n",
       "422  tt1899353          The Raid: Redemption          2011     13 April 2012   \n",
       "430  tt2034800                The Great Wall          2016  17 February 2017   \n",
       "462  tt2802144  Kingsman: The Secret Service          2014  13 February 2015   \n",
       "494  tt5996252                        Trader          1987               NaN   \n",
       "495  tt6540078             The Child in Time          2017      1 April 2018   \n",
       "\n",
       "     duration mpaa_rating                                          locations  \\\n",
       "422  1h 41min           R                                          Indonesia   \n",
       "430  1h 43min       PG-13                                     Qingdao, China   \n",
       "462   2h 9min           R  Sharpthorne tunnel, Bluebell Railway, West Sus...   \n",
       "494     55min         NaN                                                NaN   \n",
       "495  1h 30min         NaN                                        England, UK   \n",
       "\n",
       "    release_date_2  release_year_2  \n",
       "422     2012-04-13          2012.0  \n",
       "430     2017-02-17          2017.0  \n",
       "462     2015-02-13          2015.0  \n",
       "494            NaT             NaN  \n",
       "495     2018-04-01          2018.0  "
      ]
     },
     "metadata": {},
     "output_type": "display_data"
    }
   ],
   "source": [
    "# release_year: initial release \n",
    "# release_date: date of release in USA\n",
    "# Seems like the USA release year is the year that the movie will be considered for Oscars.\n",
    "# However, IMDB data does not seem consistent. See: The Hurt Locker & Frost/Nixon, for Best Picture.\n",
    "IPython.core.display.display(movies[movies['release_year'] != movies['release_year_2']].shape)\n",
    "IPython.core.display.display(movies[movies['release_year'] != movies['release_year_2']].tail())"
   ]
  },
  {
   "cell_type": "markdown",
   "metadata": {},
   "source": [
    "### Plots"
   ]
  },
  {
   "cell_type": "code",
   "execution_count": 6,
   "metadata": {},
   "outputs": [
    {
     "data": {
      "image/png": "[encoded data removed]",
      "text/plain": [
       "<matplotlib.figure.Figure at 0x112b530b8>"
      ]
     },
     "metadata": {},
     "output_type": "display_data"
    }
   ],
   "source": [
    "counts_by_release_year = movies.groupby('release_year').count()['imdb_id']\n",
    "counts_by_release_year.plot.bar(figsize=(14,7), color='steelblue', grid=True)\n",
    "matplotlib.pyplot.show()"
   ]
  },
  {
   "cell_type": "code",
   "execution_count": 7,
   "metadata": {},
   "outputs": [],
   "source": [
    "# plot by country?"
   ]
  },
  {
   "cell_type": "markdown",
   "metadata": {},
   "source": [
    "### Stats"
   ]
  },
  {
   "cell_type": "code",
   "execution_count": 8,
   "metadata": {},
   "outputs": [
    {
     "data": {
      "text/html": [
       "<div>\n",
       "<style scoped>\n",
       "    .dataframe tbody tr th:only-of-type {\n",
       "        vertical-align: middle;\n",
       "    }\n",
       "\n",
       "    .dataframe tbody tr th {\n",
       "        vertical-align: top;\n",
       "    }\n",
       "\n",
       "    .dataframe thead th {\n",
       "        text-align: right;\n",
       "    }\n",
       "</style>\n",
       "<table border=\"1\" class=\"dataframe\">\n",
       "  <thead>\n",
       "    <tr style=\"text-align: right;\">\n",
       "      <th></th>\n",
       "      <th>roles</th>\n",
       "      <th>count</th>\n",
       "    </tr>\n",
       "    <tr>\n",
       "      <th>name</th>\n",
       "      <th></th>\n",
       "      <th></th>\n",
       "    </tr>\n",
       "  </thead>\n",
       "  <tbody>\n",
       "    <tr>\n",
       "      <th>Quentin Tarantino</th>\n",
       "      <td>actor, director, writer</td>\n",
       "      <td>18</td>\n",
       "    </tr>\n",
       "    <tr>\n",
       "      <th>Seth Rogen</th>\n",
       "      <td>actor, writer, director</td>\n",
       "      <td>16</td>\n",
       "    </tr>\n",
       "    <tr>\n",
       "      <th>Samuel L. Jackson</th>\n",
       "      <td>actor</td>\n",
       "      <td>15</td>\n",
       "    </tr>\n",
       "    <tr>\n",
       "      <th>Christopher Nolan</th>\n",
       "      <td>director, writer</td>\n",
       "      <td>15</td>\n",
       "    </tr>\n",
       "    <tr>\n",
       "      <th>Andrew Stanton</th>\n",
       "      <td>director, writer, actor</td>\n",
       "      <td>14</td>\n",
       "    </tr>\n",
       "  </tbody>\n",
       "</table>\n",
       "</div>"
      ],
      "text/plain": [
       "                                     roles  count\n",
       "name                                             \n",
       "Quentin Tarantino  actor, director, writer     18\n",
       "Seth Rogen         actor, writer, director     16\n",
       "Samuel L. Jackson                    actor     15\n",
       "Christopher Nolan         director, writer     15\n",
       "Andrew Stanton     director, writer, actor     14"
      ]
     },
     "execution_count": 8,
     "metadata": {},
     "output_type": "execute_result"
    }
   ],
   "source": [
    "# Most prevalent people\n",
    "roles = entities.query(\"entity_type in ('director', 'writer', 'actor')\")\n",
    "roles = roles[['entity_name', 'entity_type']].drop_duplicates()\n",
    "roles = roles.groupby('entity_name')['entity_type'].apply(lambda x: ', '.join(x))\n",
    "roles = roles.rename('roles').to_frame()\n",
    "people = entities.query(\"entity_type in ('director', 'writer', 'actor')\") \\\n",
    "                 .groupby('entity_name').count()['imdb_id'] \\\n",
    "                 .rename('count').to_frame().join(roles) \\\n",
    "                 .sort_values('count', ascending=False).head()\n",
    "people = people.reset_index()[['entity_name', 'roles', 'count']]\n",
    "people.columns = ['name', 'roles', 'count']\n",
    "people = people.set_index('name')\n",
    "people"
   ]
  },
  {
   "cell_type": "code",
   "execution_count": 9,
   "metadata": {},
   "outputs": [
    {
     "data": {
      "text/html": [
       "<div>\n",
       "<style scoped>\n",
       "    .dataframe tbody tr th:only-of-type {\n",
       "        vertical-align: middle;\n",
       "    }\n",
       "\n",
       "    .dataframe tbody tr th {\n",
       "        vertical-align: top;\n",
       "    }\n",
       "\n",
       "    .dataframe thead th {\n",
       "        text-align: right;\n",
       "    }\n",
       "</style>\n",
       "<table border=\"1\" class=\"dataframe\">\n",
       "  <thead>\n",
       "    <tr style=\"text-align: right;\">\n",
       "      <th></th>\n",
       "      <th>imdb_id</th>\n",
       "    </tr>\n",
       "    <tr>\n",
       "      <th>entity_name</th>\n",
       "      <th></th>\n",
       "    </tr>\n",
       "  </thead>\n",
       "  <tbody>\n",
       "    <tr>\n",
       "      <th>Steven Spielberg</th>\n",
       "      <td>12</td>\n",
       "    </tr>\n",
       "    <tr>\n",
       "      <th>Christopher Nolan</th>\n",
       "      <td>8</td>\n",
       "    </tr>\n",
       "    <tr>\n",
       "      <th>Peter Jackson</th>\n",
       "      <td>7</td>\n",
       "    </tr>\n",
       "    <tr>\n",
       "      <th>Quentin Tarantino</th>\n",
       "      <td>7</td>\n",
       "    </tr>\n",
       "    <tr>\n",
       "      <th>Ridley Scott</th>\n",
       "      <td>6</td>\n",
       "    </tr>\n",
       "  </tbody>\n",
       "</table>\n",
       "</div>"
      ],
      "text/plain": [
       "                   imdb_id\n",
       "entity_name               \n",
       "Steven Spielberg        12\n",
       "Christopher Nolan        8\n",
       "Peter Jackson            7\n",
       "Quentin Tarantino        7\n",
       "Ridley Scott             6"
      ]
     },
     "execution_count": 9,
     "metadata": {},
     "output_type": "execute_result"
    }
   ],
   "source": [
    "# My most-watched directors\n",
    "entities.query(\"entity_type == 'director'\") \\\n",
    "        .groupby('entity_name').count()['imdb_id'] \\\n",
    "        .sort_values(ascending=False).head().to_frame()"
   ]
  },
  {
   "cell_type": "code",
   "execution_count": 10,
   "metadata": {},
   "outputs": [
    {
     "data": {
      "text/html": [
       "<div>\n",
       "<style scoped>\n",
       "    .dataframe tbody tr th:only-of-type {\n",
       "        vertical-align: middle;\n",
       "    }\n",
       "\n",
       "    .dataframe tbody tr th {\n",
       "        vertical-align: top;\n",
       "    }\n",
       "\n",
       "    .dataframe thead th {\n",
       "        text-align: right;\n",
       "    }\n",
       "</style>\n",
       "<table border=\"1\" class=\"dataframe\">\n",
       "  <thead>\n",
       "    <tr style=\"text-align: right;\">\n",
       "      <th></th>\n",
       "      <th>imdb_id</th>\n",
       "    </tr>\n",
       "    <tr>\n",
       "      <th>entity_name</th>\n",
       "      <th></th>\n",
       "    </tr>\n",
       "  </thead>\n",
       "  <tbody>\n",
       "    <tr>\n",
       "      <th>Quentin Tarantino</th>\n",
       "      <td>10</td>\n",
       "    </tr>\n",
       "    <tr>\n",
       "      <th>Andrew Stanton</th>\n",
       "      <td>8</td>\n",
       "    </tr>\n",
       "    <tr>\n",
       "      <th>George Lucas</th>\n",
       "      <td>8</td>\n",
       "    </tr>\n",
       "    <tr>\n",
       "      <th>Fran Walsh</th>\n",
       "      <td>7</td>\n",
       "    </tr>\n",
       "    <tr>\n",
       "      <th>David S. Goyer</th>\n",
       "      <td>7</td>\n",
       "    </tr>\n",
       "  </tbody>\n",
       "</table>\n",
       "</div>"
      ],
      "text/plain": [
       "                   imdb_id\n",
       "entity_name               \n",
       "Quentin Tarantino       10\n",
       "Andrew Stanton           8\n",
       "George Lucas             8\n",
       "Fran Walsh               7\n",
       "David S. Goyer           7"
      ]
     },
     "execution_count": 10,
     "metadata": {},
     "output_type": "execute_result"
    }
   ],
   "source": [
    "# My most-watched writers\n",
    "entities.query(\"entity_type == 'writer'\") \\\n",
    "        .groupby('entity_name').count()['imdb_id'] \\\n",
    "        .sort_values(ascending=False).head().to_frame()"
   ]
  },
  {
   "cell_type": "code",
   "execution_count": 11,
   "metadata": {},
   "outputs": [
    {
     "data": {
      "text/html": [
       "<div>\n",
       "<style scoped>\n",
       "    .dataframe tbody tr th:only-of-type {\n",
       "        vertical-align: middle;\n",
       "    }\n",
       "\n",
       "    .dataframe tbody tr th {\n",
       "        vertical-align: top;\n",
       "    }\n",
       "\n",
       "    .dataframe thead th {\n",
       "        text-align: right;\n",
       "    }\n",
       "</style>\n",
       "<table border=\"1\" class=\"dataframe\">\n",
       "  <thead>\n",
       "    <tr style=\"text-align: right;\">\n",
       "      <th></th>\n",
       "      <th>imdb_id</th>\n",
       "    </tr>\n",
       "    <tr>\n",
       "      <th>entity_name</th>\n",
       "      <th></th>\n",
       "    </tr>\n",
       "  </thead>\n",
       "  <tbody>\n",
       "    <tr>\n",
       "      <th>Samuel L. Jackson</th>\n",
       "      <td>15</td>\n",
       "    </tr>\n",
       "    <tr>\n",
       "      <th>Matt Damon</th>\n",
       "      <td>13</td>\n",
       "    </tr>\n",
       "    <tr>\n",
       "      <th>Vin Diesel</th>\n",
       "      <td>13</td>\n",
       "    </tr>\n",
       "    <tr>\n",
       "      <th>Jonah Hill</th>\n",
       "      <td>12</td>\n",
       "    </tr>\n",
       "    <tr>\n",
       "      <th>Brad Pitt</th>\n",
       "      <td>12</td>\n",
       "    </tr>\n",
       "  </tbody>\n",
       "</table>\n",
       "</div>"
      ],
      "text/plain": [
       "                   imdb_id\n",
       "entity_name               \n",
       "Samuel L. Jackson       15\n",
       "Matt Damon              13\n",
       "Vin Diesel              13\n",
       "Jonah Hill              12\n",
       "Brad Pitt               12"
      ]
     },
     "execution_count": 11,
     "metadata": {},
     "output_type": "execute_result"
    }
   ],
   "source": [
    "# My most-watched actors\n",
    "entities.query(\"entity_type == 'actor'\") \\\n",
    "        .groupby('entity_name').count()['imdb_id'] \\\n",
    "        .sort_values(ascending=False).head().to_frame()"
   ]
  },
  {
   "cell_type": "code",
   "execution_count": 12,
   "metadata": {},
   "outputs": [
    {
     "data": {
      "text/html": [
       "<div>\n",
       "<style scoped>\n",
       "    .dataframe tbody tr th:only-of-type {\n",
       "        vertical-align: middle;\n",
       "    }\n",
       "\n",
       "    .dataframe tbody tr th {\n",
       "        vertical-align: top;\n",
       "    }\n",
       "\n",
       "    .dataframe thead th {\n",
       "        text-align: right;\n",
       "    }\n",
       "</style>\n",
       "<table border=\"1\" class=\"dataframe\">\n",
       "  <thead>\n",
       "    <tr style=\"text-align: right;\">\n",
       "      <th></th>\n",
       "      <th>imdb_id</th>\n",
       "    </tr>\n",
       "    <tr>\n",
       "      <th>entity_name</th>\n",
       "      <th></th>\n",
       "    </tr>\n",
       "  </thead>\n",
       "  <tbody>\n",
       "    <tr>\n",
       "      <th>Universal Pictures</th>\n",
       "      <td>58</td>\n",
       "    </tr>\n",
       "    <tr>\n",
       "      <th>Warner Bros.</th>\n",
       "      <td>57</td>\n",
       "    </tr>\n",
       "    <tr>\n",
       "      <th>Walt Disney Pictures</th>\n",
       "      <td>45</td>\n",
       "    </tr>\n",
       "    <tr>\n",
       "      <th>Paramount Pictures</th>\n",
       "      <td>43</td>\n",
       "    </tr>\n",
       "    <tr>\n",
       "      <th>Twentieth Century Fox</th>\n",
       "      <td>40</td>\n",
       "    </tr>\n",
       "  </tbody>\n",
       "</table>\n",
       "</div>"
      ],
      "text/plain": [
       "                       imdb_id\n",
       "entity_name                   \n",
       "Universal Pictures          58\n",
       "Warner Bros.                57\n",
       "Walt Disney Pictures        45\n",
       "Paramount Pictures          43\n",
       "Twentieth Century Fox       40"
      ]
     },
     "execution_count": 12,
     "metadata": {},
     "output_type": "execute_result"
    }
   ],
   "source": [
    "# My most-watched studios\n",
    "entities.query(\"entity_type == 'studio'\") \\\n",
    "        .groupby('entity_name').count()['imdb_id'] \\\n",
    "        .sort_values(ascending=False).head().to_frame()"
   ]
  },
  {
   "cell_type": "code",
   "execution_count": 13,
   "metadata": {
    "scrolled": true
   },
   "outputs": [
    {
     "data": {
      "text/html": [
       "<div>\n",
       "<style scoped>\n",
       "    .dataframe tbody tr th:only-of-type {\n",
       "        vertical-align: middle;\n",
       "    }\n",
       "\n",
       "    .dataframe tbody tr th {\n",
       "        vertical-align: top;\n",
       "    }\n",
       "\n",
       "    .dataframe thead th {\n",
       "        text-align: right;\n",
       "    }\n",
       "</style>\n",
       "<table border=\"1\" class=\"dataframe\">\n",
       "  <thead>\n",
       "    <tr style=\"text-align: right;\">\n",
       "      <th></th>\n",
       "      <th>imdb_id</th>\n",
       "    </tr>\n",
       "    <tr>\n",
       "      <th>entity_name</th>\n",
       "      <th></th>\n",
       "    </tr>\n",
       "  </thead>\n",
       "  <tbody>\n",
       "    <tr>\n",
       "      <th>Action</th>\n",
       "      <td>253</td>\n",
       "    </tr>\n",
       "    <tr>\n",
       "      <th>Adventure</th>\n",
       "      <td>222</td>\n",
       "    </tr>\n",
       "    <tr>\n",
       "      <th>Drama</th>\n",
       "      <td>166</td>\n",
       "    </tr>\n",
       "    <tr>\n",
       "      <th>Thriller</th>\n",
       "      <td>166</td>\n",
       "    </tr>\n",
       "    <tr>\n",
       "      <th>Sci-Fi</th>\n",
       "      <td>166</td>\n",
       "    </tr>\n",
       "  </tbody>\n",
       "</table>\n",
       "</div>"
      ],
      "text/plain": [
       "             imdb_id\n",
       "entity_name         \n",
       "Action           253\n",
       "Adventure        222\n",
       "Drama            166\n",
       "Thriller         166\n",
       "Sci-Fi           166"
      ]
     },
     "execution_count": 13,
     "metadata": {},
     "output_type": "execute_result"
    }
   ],
   "source": [
    "# My top-watched genres\n",
    "entities.query(\"entity_type == 'genre'\") \\\n",
    "        .groupby('entity_name').count()['imdb_id'] \\\n",
    "        .sort_values(ascending=False).head().to_frame()"
   ]
  },
  {
   "cell_type": "code",
   "execution_count": 14,
   "metadata": {
    "scrolled": true
   },
   "outputs": [
    {
     "data": {
      "text/html": [
       "<div>\n",
       "<style scoped>\n",
       "    .dataframe tbody tr th:only-of-type {\n",
       "        vertical-align: middle;\n",
       "    }\n",
       "\n",
       "    .dataframe tbody tr th {\n",
       "        vertical-align: top;\n",
       "    }\n",
       "\n",
       "    .dataframe thead th {\n",
       "        text-align: right;\n",
       "    }\n",
       "</style>\n",
       "<table border=\"1\" class=\"dataframe\">\n",
       "  <thead>\n",
       "    <tr style=\"text-align: right;\">\n",
       "      <th></th>\n",
       "      <th>entity_type</th>\n",
       "    </tr>\n",
       "    <tr>\n",
       "      <th>entity_name</th>\n",
       "      <th></th>\n",
       "    </tr>\n",
       "  </thead>\n",
       "  <tbody>\n",
       "    <tr>\n",
       "      <th>Pete Docter</th>\n",
       "      <td>3</td>\n",
       "    </tr>\n",
       "    <tr>\n",
       "      <th>Shane Black</th>\n",
       "      <td>3</td>\n",
       "    </tr>\n",
       "    <tr>\n",
       "      <th>Seth MacFarlane</th>\n",
       "      <td>3</td>\n",
       "    </tr>\n",
       "    <tr>\n",
       "      <th>Harold Ramis</th>\n",
       "      <td>3</td>\n",
       "    </tr>\n",
       "    <tr>\n",
       "      <th>Stephen Chow</th>\n",
       "      <td>3</td>\n",
       "    </tr>\n",
       "  </tbody>\n",
       "</table>\n",
       "</div>"
      ],
      "text/plain": [
       "                 entity_type\n",
       "entity_name                 \n",
       "Pete Docter                3\n",
       "Shane Black                3\n",
       "Seth MacFarlane            3\n",
       "Harold Ramis               3\n",
       "Stephen Chow               3"
      ]
     },
     "execution_count": 14,
     "metadata": {},
     "output_type": "execute_result"
    }
   ],
   "source": [
    "# People that have acted & written & directed\n",
    "entities.groupby('entity_name').nunique()['entity_type'] \\\n",
    "        .sort_values(ascending=False).head().to_frame()"
   ]
  },
  {
   "cell_type": "code",
   "execution_count": 15,
   "metadata": {
    "scrolled": true
   },
   "outputs": [
    {
     "data": {
      "image/png": "[encoded data removed]",
      "text/plain": [
       "<matplotlib.figure.Figure at 0x113103630>"
      ]
     },
     "metadata": {},
     "output_type": "display_data"
    }
   ],
   "source": [
    "# Distribution by MPAA rating\n",
    "counts_by_mpaa_rating = movies.groupby('mpaa_rating').count()['imdb_id']\n",
    "counts_by_mpaa_rating.plot.bar(color='steelblue')\n",
    "matplotlib.pyplot.show()"
   ]
  },
  {
   "cell_type": "markdown",
   "metadata": {},
   "source": [
    "### Get directors"
   ]
  },
  {
   "cell_type": "code",
   "execution_count": 16,
   "metadata": {},
   "outputs": [],
   "source": [
    "directors = entities.query(\"entity_type == 'director'\")\n",
    "directors = directors.groupby('imdb_id')['entity_name'].apply(lambda x: '; '.join(x))\n",
    "directors = directors.rename('directors').reset_index()"
   ]
  },
  {
   "cell_type": "code",
   "execution_count": 17,
   "metadata": {},
   "outputs": [],
   "source": [
    "data = movies.merge(directors)\n",
    "data = data[['imdb_id', 'title', 'release_year', 'directors']]\n",
    "data = data.sort_values(data.columns.tolist())"
   ]
  },
  {
   "cell_type": "code",
   "execution_count": 18,
   "metadata": {},
   "outputs": [
    {
     "data": {
      "text/html": [
       "<div>\n",
       "<style scoped>\n",
       "    .dataframe tbody tr th:only-of-type {\n",
       "        vertical-align: middle;\n",
       "    }\n",
       "\n",
       "    .dataframe tbody tr th {\n",
       "        vertical-align: top;\n",
       "    }\n",
       "\n",
       "    .dataframe thead th {\n",
       "        text-align: right;\n",
       "    }\n",
       "</style>\n",
       "<table border=\"1\" class=\"dataframe\">\n",
       "  <thead>\n",
       "    <tr style=\"text-align: right;\">\n",
       "      <th></th>\n",
       "      <th>imdb_id</th>\n",
       "      <th>title</th>\n",
       "      <th>release_year</th>\n",
       "      <th>directors</th>\n",
       "    </tr>\n",
       "  </thead>\n",
       "  <tbody>\n",
       "    <tr>\n",
       "      <th>491</th>\n",
       "      <td>tt4630562</td>\n",
       "      <td>The Fate of the Furious</td>\n",
       "      <td>2017</td>\n",
       "      <td>F. Gary Gray</td>\n",
       "    </tr>\n",
       "    <tr>\n",
       "      <th>492</th>\n",
       "      <td>tt4649466</td>\n",
       "      <td>Kingsman: The Golden Circle</td>\n",
       "      <td>2017</td>\n",
       "      <td>Matthew Vaughn</td>\n",
       "    </tr>\n",
       "    <tr>\n",
       "      <th>493</th>\n",
       "      <td>tt5013056</td>\n",
       "      <td>Dunkirk</td>\n",
       "      <td>2017</td>\n",
       "      <td>Christopher Nolan</td>\n",
       "    </tr>\n",
       "    <tr>\n",
       "      <th>494</th>\n",
       "      <td>tt5996252</td>\n",
       "      <td>Trader</td>\n",
       "      <td>1987</td>\n",
       "      <td>Michael Glyn</td>\n",
       "    </tr>\n",
       "    <tr>\n",
       "      <th>495</th>\n",
       "      <td>tt6540078</td>\n",
       "      <td>The Child in Time</td>\n",
       "      <td>2017</td>\n",
       "      <td>Julian Farino</td>\n",
       "    </tr>\n",
       "  </tbody>\n",
       "</table>\n",
       "</div>"
      ],
      "text/plain": [
       "       imdb_id                        title  release_year          directors\n",
       "491  tt4630562      The Fate of the Furious          2017       F. Gary Gray\n",
       "492  tt4649466  Kingsman: The Golden Circle          2017     Matthew Vaughn\n",
       "493  tt5013056                      Dunkirk          2017  Christopher Nolan\n",
       "494  tt5996252                       Trader          1987       Michael Glyn\n",
       "495  tt6540078            The Child in Time          2017      Julian Farino"
      ]
     },
     "execution_count": 18,
     "metadata": {},
     "output_type": "execute_result"
    }
   ],
   "source": [
    "data.tail()"
   ]
  },
  {
   "cell_type": "code",
   "execution_count": 19,
   "metadata": {},
   "outputs": [],
   "source": [
    "data.to_csv('data/directors.csv', index=False)"
   ]
  }
 ],
 "metadata": {
  "kernelspec": {
   "display_name": "Python 3",
   "language": "python",
   "name": "python3"
  },
  "language_info": {
   "codemirror_mode": {
    "name": "ipython",
    "version": 3
   },
   "file_extension": ".py",
   "mimetype": "text/x-python",
   "name": "python",
   "nbconvert_exporter": "python",
   "pygments_lexer": "ipython3",
   "version": "3.6.5"
  },
  "toc": {
   "nav_menu": {},
   "number_sections": false,
   "sideBar": true,
   "skip_h1_title": false,
   "title_cell": "Table of Contents",
   "title_sidebar": "Contents",
   "toc_cell": false,
   "toc_position": {},
   "toc_section_display": true,
   "toc_window_display": false
  }
 },
 "nbformat": 4,
 "nbformat_minor": 2
}
